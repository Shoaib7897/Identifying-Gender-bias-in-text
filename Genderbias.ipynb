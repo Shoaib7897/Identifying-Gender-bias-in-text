{
 "cells": [
  {
   "cell_type": "code",
   "execution_count": 27,
   "id": "6a2df59f",
   "metadata": {},
   "outputs": [],
   "source": [
    "import nltk\n",
    "from nltk.tokenize import word_tokenize\n",
    "from nltk.corpus import stopwords\n",
    "import string\n",
    "import torchtext.vocab\n",
    "import torch\n",
    "\n",
    "        "
   ]
  },
  {
   "cell_type": "code",
   "execution_count": 60,
   "id": "3c31f92f",
   "metadata": {},
   "outputs": [],
   "source": [
    "class Model(object):\n",
    "    def __init__(self,text=None):\n",
    "        self.text = text\n",
    "        self.glove=torchtext.vocab.GloVe(name='6B',dim=100)\n",
    "        self.embeddings=self.glove\n",
    "        self.male_biased_words=list()\n",
    "        self.female_biased_words=list()\n",
    "        self.biased_words=dict()\n",
    "        self.suggestion=dict()\n",
    "        \n",
    "    def get_vector(self,word):\n",
    "        assert word in self.embeddings.stoi, f'*{word}*is not in the vocab!'\n",
    "        return self.embeddings.vectors[self.embeddings.stoi[word]]\n",
    "    def get_paragraph(self):\n",
    "        text = word_tokenize(self.text)\n",
    "        stops = stopwords.words('english')\n",
    "        words = [word for word in text if word not in stops]\n",
    "        \n",
    "        punctuations=list(string.punctuation)\n",
    "        \n",
    "        words = [word for word in words if word not in punctuations]\n",
    "        return words;\n",
    "    \n",
    "    def get_bias(self,word):\n",
    "        cos = torch.nn.CosineSimilarity(dim=0)\n",
    "        man_vector = self.get_vector('man')\n",
    "        woman_vector = self.get_vector('woman')\n",
    "        person_vector = self.get_vector('person')\n",
    "        distance_man = cos(man_vector,self.get_vector(word)).item()\n",
    "        distance_woman = cos(woman_vector,self.get_vector(word)).item()\n",
    "        distance_person = cos(person_vector,self.get_vector(word)).item()\n",
    "        if(distance_man > distance_person and distance_man > distance_woman):\n",
    "            self.male_biased_words.append(word)\n",
    "        elif(distance_woman > distance_person and distance_woman > distance_man):\n",
    "            self.female_biased_words.append(word)\n",
    "            \n",
    "    def analogy(self, word1, word2, word3, n=5):\n",
    "        word1_vector = self.get_vector(word1)\n",
    "        word2_vector = self.get_vector(word2)\n",
    "        word3_vector = self.get_vector(word3)\n",
    "        \n",
    "        analogy_vector = word2_vector - word1_vector + word3_vector\n",
    "        \n",
    "        candidate_words = self.closest_words(analogy_vector, 5)\n",
    "        \n",
    "        candidate_words = [(word, dist) for (word,dist) in candidate_words\n",
    "                          if word not in [word1,word2,word3]][:n]\n",
    "        \n",
    "        return candidate_words\n",
    "    \n",
    "    def closest_words(self,vector,n=5):\n",
    "        cos= torch.nn.CosineSimilarity(dim=0)\n",
    "        distances = [(word,cos(vector,self.get_vector(word)).item())\n",
    "                     for word in self.embeddings.itos]\n",
    "        \n",
    "        return sorted(distances, key=lambda w: w[1], reverse=True)[:n]\n",
    "    \n",
    "    def suggestions(self, words, bias='male'):\n",
    "        for word in words:\n",
    "            if(bias ==\"male\"):\n",
    "                self.suggestion[word] = self.analogy(\"man\",word,\"person\")\n",
    "            else:\n",
    "                self.suggestion[word] = self.analogy(\"woman\",word,\"person\")\n",
    "        return self.suggestion\n",
    "    \n",
    "    def gender_bias(self):\n",
    "        for word in self.get_paragraph():\n",
    "            if(not word in self.glove.stoi):\n",
    "                continue\n",
    "            else:\n",
    "                self.get_bias(word)\n",
    "        \n",
    "        self.biased_words[\"male_biased_words\"] = self.male_biased_words\n",
    "        self.biased_words[\"female_biased_words\"] = self.female_biased_words\n",
    "        return self.biased_words\n",
    "            "
   ]
  },
  {
   "cell_type": "code",
   "execution_count": 61,
   "id": "9a8b7248",
   "metadata": {},
   "outputs": [],
   "source": [
    "text=\"\"\"Job description\n",
    "We are looking for a creative Recruitment Manager. You have a strong work ethic and use an enthusiastic approach to find qualified candidates for companies.\n",
    "\n",
    "Develop and implement recruitment strategies, tactics, funnels, and procedures.\n",
    "Communicate recruitment goals and objectives with recruiters.\n",
    "Train recruiters to perform resume searches on external databases (e.g., Monster, Careerbuilder).\n",
    "Maintain the internal candidate database (e.g. updating contact information, candidates’ geographical locations, and availability for new work).\n",
    "Communicate with the team to determine the effectiveness of recruitment plans.\n",
    "Research and recommend new sources for the recruitment of active and passive candidates.\n",
    "Build networks to find qualified candidates.\n",
    "Review applicants to evaluate their qualifications and whether they meet the position requirements.\n",
    "Prepare weekly reports for clients to show tasks in progress, the number of candidates searched, and the number of qualified candidates found.\n",
    "Proofread job descriptions and other related materials.\"\"\""
   ]
  },
  {
   "cell_type": "code",
   "execution_count": 80,
   "id": "3bc862a2",
   "metadata": {
    "scrolled": true
   },
   "outputs": [
    {
     "name": "stdout",
     "output_type": "stream",
     "text": [
      "['funnels']\n",
      "<class 'list'>\n"
     ]
    }
   ],
   "source": [
    "model=Model(text)\n",
    "bias = model.gender_bias()\n",
    "malebias=bias[\"male_biased_words\"]\n",
    "femalebias=bias[\"female_biased_words\"]\n",
    "print (femalebias)\n",
    "print(type(femalebias))"
   ]
  },
  {
   "cell_type": "code",
   "execution_count": 63,
   "id": "2b4958b1",
   "metadata": {
    "scrolled": true
   },
   "outputs": [
    {
     "data": {
      "text/plain": [
       "{'funnels': [('funnel', 0.5646414756774902),\n",
       "  ('diverts', 0.46857672929763794),\n",
       "  ('timestamps', 0.4564692974090576),\n",
       "  ('totalling', 0.4560450315475464)]}"
      ]
     },
     "execution_count": 63,
     "metadata": {},
     "output_type": "execute_result"
    }
   ],
   "source": [
    "model.suggestions(femalebias,\"female\")"
   ]
  },
  {
   "cell_type": "code",
   "execution_count": 64,
   "id": "cc3d5319",
   "metadata": {
    "scrolled": false
   },
   "outputs": [
    {
     "data": {
      "text/plain": [
       "{'funnels': [('funnel', 0.5646414756774902),\n",
       "  ('diverts', 0.46857672929763794),\n",
       "  ('timestamps', 0.4564692974090576),\n",
       "  ('totalling', 0.4560450315475464)],\n",
       " 'looking': [(\"'re\", 0.7154514789581299),\n",
       "  ('sure', 0.7122876644134521),\n",
       "  ('interested', 0.7027471661567688)],\n",
       " 'strong': [('stronger', 0.7283212542533875),\n",
       "  ('consistent', 0.7015354037284851),\n",
       "  ('significant', 0.6705282926559448),\n",
       "  ('weak', 0.6618680357933044)],\n",
       " 'ethic': [('teamwork', 0.5969914197921753),\n",
       "  ('mindset', 0.5538064241409302),\n",
       "  ('importantly', 0.5485348701477051),\n",
       "  ('motivation', 0.5484207272529602)],\n",
       " 'tactics': [('tactic', 0.7012945413589478),\n",
       "  ('methods', 0.650532066822052),\n",
       "  ('actions', 0.6429609656333923),\n",
       "  ('strategies', 0.6145742535591125)],\n",
       " 'goals': [('goal', 0.7245169281959534),\n",
       "  ('scoring', 0.6241652965545654),\n",
       "  ('objectives', 0.6186129450798035),\n",
       "  ('difference', 0.5881381034851074)],\n",
       " 'new': [('addition', 0.7060644030570984),\n",
       "  ('present', 0.7027788758277893),\n",
       "  ('current', 0.7011013627052307),\n",
       "  ('change', 0.6859930157661438)],\n",
       " 'team': [('teams', 0.7652494311332703),\n",
       "  ('players', 0.6738331317901611),\n",
       "  ('qualified', 0.6735340356826782),\n",
       "  ('player', 0.6489225625991821)],\n",
       " 'meet': [('participate', 0.6894763112068176),\n",
       "  ('discuss', 0.662652850151062),\n",
       "  ('decide', 0.6601008772850037),\n",
       "  ('choose', 0.654102623462677)],\n",
       " 'show': [('shows', 0.7717870473861694),\n",
       "  ('viewers', 0.6769424080848694),\n",
       "  ('shown', 0.6746150255203247),\n",
       "  ('actual', 0.6527509093284607)],\n",
       " 'searched': [('checked', 0.610149621963501),\n",
       "  ('searching', 0.599825382232666),\n",
       "  ('locate', 0.5929203629493713),\n",
       "  ('notified', 0.5913833379745483)],\n",
       " 'found': [('cases', 0.673377275466919),\n",
       "  ('instance', 0.6650696396827698),\n",
       "  ('present', 0.6554569005966187)]}"
      ]
     },
     "execution_count": 64,
     "metadata": {},
     "output_type": "execute_result"
    }
   ],
   "source": [
    "model.suggestions(malebias,\"male\")"
   ]
  },
  {
   "cell_type": "code",
   "execution_count": 81,
   "id": "afb0cdc2",
   "metadata": {},
   "outputs": [],
   "source": [
    "word1 = \"man\"\n",
    "word2 = \"doctor\"\n",
    "word3 = \"woman\"\n",
    "\n"
   ]
  },
  {
   "cell_type": "code",
   "execution_count": 82,
   "id": "ad34d523",
   "metadata": {},
   "outputs": [
    {
     "name": "stdout",
     "output_type": "stream",
     "text": [
      "man is to doctor as woman is to \n",
      "[('nurse', 0.7757077813148499), ('physician', 0.7128061056137085), ('doctors', 0.6793617606163025)]\n"
     ]
    }
   ],
   "source": [
    "print (f\"{word1} is to {word2} as {word3} is to \")\n",
    "print(model.analogy(word1,word2,word3))"
   ]
  },
  {
   "cell_type": "code",
   "execution_count": 83,
   "id": "df4a74cb",
   "metadata": {},
   "outputs": [
    {
     "data": {
      "text/plain": [
       "{'nurse': [('patient', 0.6518697738647461),\n",
       "  ('physician', 0.6172693967819214),\n",
       "  ('doctor', 0.6070456504821777)]}"
      ]
     },
     "execution_count": 83,
     "metadata": {},
     "output_type": "execute_result"
    }
   ],
   "source": [
    "model.suggestions([\"nurse\"],\"female\")"
   ]
  },
  {
   "cell_type": "code",
   "execution_count": null,
   "id": "365a6626",
   "metadata": {},
   "outputs": [],
   "source": []
  }
 ],
 "metadata": {
  "kernelspec": {
   "display_name": "Python 3 (ipykernel)",
   "language": "python",
   "name": "python3"
  },
  "language_info": {
   "codemirror_mode": {
    "name": "ipython",
    "version": 3
   },
   "file_extension": ".py",
   "mimetype": "text/x-python",
   "name": "python",
   "nbconvert_exporter": "python",
   "pygments_lexer": "ipython3",
   "version": "3.10.4"
  }
 },
 "nbformat": 4,
 "nbformat_minor": 5
}
